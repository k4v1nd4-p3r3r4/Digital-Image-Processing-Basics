{
  "nbformat": 4,
  "nbformat_minor": 0,
  "metadata": {
    "colab": {
      "provenance": [],
      "authorship_tag": "ABX9TyOooOVK1vDAybFrnoIzUDxa",
      "include_colab_link": true
    },
    "kernelspec": {
      "name": "python3",
      "display_name": "Python 3"
    },
    "language_info": {
      "name": "python"
    }
  },
  "cells": [
    {
      "cell_type": "markdown",
      "metadata": {
        "id": "view-in-github",
        "colab_type": "text"
      },
      "source": [
        "<a href=\"https://colab.research.google.com/github/k4v1nd4-p3r3r4/Digital-Image-Processing-Basics/blob/main/Practrical_01.ipynb\" target=\"_parent\"><img src=\"https://colab.research.google.com/assets/colab-badge.svg\" alt=\"Open In Colab\"/></a>"
      ]
    },
    {
      "cell_type": "markdown",
      "source": [
        "# New Section"
      ],
      "metadata": {
        "id": "2sM0uDNazkEx"
      }
    },
    {
      "cell_type": "code",
      "execution_count": null,
      "metadata": {
        "id": "KKZr-i7Bxaco"
      },
      "outputs": [],
      "source": [
        "import cv2\n",
        "from google.colab.patches import cv2_imshow\n",
        "import numpy as np"
      ]
    },
    {
      "cell_type": "code",
      "source": [
        "# Load the image\n",
        "image = cv2.imread(\"image_1.jpg\")"
      ],
      "metadata": {
        "id": "QZL_Lzsazck5"
      },
      "execution_count": null,
      "outputs": []
    },
    {
      "cell_type": "code",
      "source": [
        "# Display the original image\n",
        "cv2_imshow(image)"
      ],
      "metadata": {
        "id": "zdt6JaHaz1PP"
      },
      "execution_count": null,
      "outputs": []
    },
    {
      "cell_type": "code",
      "source": [
        "# Convert to grayscale\n",
        "gray_image = cv2.cvtColor(image, cv2.COLOR_BGR2GRAY)\n",
        "cv2_imshow(gray_image)"
      ],
      "metadata": {
        "id": "ffri_eepz8jp"
      },
      "execution_count": null,
      "outputs": []
    },
    {
      "cell_type": "code",
      "source": [
        "# Resize image\n",
        "resized_image = cv2.resize(image, (600, 400))\n",
        "cv2_imshow(resized_image)"
      ],
      "metadata": {
        "id": "miGrim9Z0dPO"
      },
      "execution_count": null,
      "outputs": []
    },
    {
      "cell_type": "code",
      "source": [
        "# Rotate image by 180 degrees\n",
        "rotated_image = cv2.rotate(image, cv2.ROTATE_180)\n",
        "cv2_imshow(rotated_image)"
      ],
      "metadata": {
        "id": "NtSuLZrS0ybk"
      },
      "execution_count": null,
      "outputs": []
    },
    {
      "cell_type": "code",
      "source": [
        "# Apply Gaussian Blur\n",
        "blurred_image = cv2.GaussianBlur(image, (21, 21), 0)\n",
        "cv2_imshow(blurred_image)\n"
      ],
      "metadata": {
        "id": "TSbVoIXy08ch"
      },
      "execution_count": null,
      "outputs": []
    },
    {
      "cell_type": "code",
      "source": [
        "# Canny Edge Detection\n",
        "edges = cv2.Canny(image, 100, 200)\n",
        "cv2_imshow(edges)"
      ],
      "metadata": {
        "id": "Cb4FqOja1G0v"
      },
      "execution_count": null,
      "outputs": []
    },
    {
      "cell_type": "code",
      "source": [
        "# Draw Rectangle and add text\n",
        "image_with_rectangle = image.copy()\n",
        "cv2.rectangle(image_with_rectangle, (50, 50), (500, 250), (0, 255, 0), 2)\n",
        "cv2.putText(image_with_rectangle, \"TG675 & kavinda\", (60, 150),\n",
        "            cv2.FONT_HERSHEY_SIMPLEX, 1, (0, 255, 0), 2)\n",
        "cv2_imshow(image_with_rectangle)"
      ],
      "metadata": {
        "id": "oC9-hqN32W-Y"
      },
      "execution_count": null,
      "outputs": []
    },
    {
      "cell_type": "code",
      "source": [
        "# Apply Thresholding\n",
        "_, thresholded_image = cv2.threshold(gray_image, 130, 255, cv2.THRESH_BINARY)\n",
        "cv2_imshow(thresholded_image)"
      ],
      "metadata": {
        "id": "w6CyGoUf2kNb"
      },
      "execution_count": null,
      "outputs": []
    }
  ]
}